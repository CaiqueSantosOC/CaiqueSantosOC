{
  "nbformat": 4,
  "nbformat_minor": 0,
  "metadata": {
    "colab": {
      "provenance": [],
      "authorship_tag": "ABX9TyOhSWQJX8YuTe7ah7TVyyBh",
      "include_colab_link": true
    },
    "kernelspec": {
      "name": "python3",
      "display_name": "Python 3"
    },
    "language_info": {
      "name": "python"
    }
  },
  "cells": [
    {
      "cell_type": "markdown",
      "metadata": {
        "id": "view-in-github",
        "colab_type": "text"
      },
      "source": [
        "<a href=\"https://colab.research.google.com/github/CaiqueSantosOC/CaiqueSantosOC/blob/main/Untitled.ipynb\" target=\"_parent\"><img src=\"https://colab.research.google.com/assets/colab-badge.svg\" alt=\"Open In Colab\"/></a>"
      ]
    },
    {
      "cell_type": "code",
      "source": [
        "import requests\n",
        "url = 'https://raw.githubusercontent.com/guilhermeonrails/api-imersao-ia/main/words.json'\n",
        "resposta = requests.get(url)\n",
        "data = resposta.json()"
      ],
      "metadata": {
        "id": "NXPiahYSI4dr"
      },
      "execution_count": 10,
      "outputs": []
    },
    {
      "cell_type": "code",
      "source": [
        "data[0]"
      ],
      "metadata": {
        "id": "qEWAFoLYR7Td"
      },
      "execution_count": null,
      "outputs": []
    },
    {
      "cell_type": "code",
      "source": [
        "import random\n",
        "valor_secreto = random.choice(data)\n",
        "palavra_secreta = valor_secreto['palavra']\n",
        "dica = valor_secreto['dica']\n",
        "print(f'A palavra secreta tem {len(palavra_secreta)} letras, com a seguinte dica: {dica}')\n"
      ],
      "metadata": {
        "colab": {
          "base_uri": "https://localhost:8080/"
        },
        "id": "-cE4ruoBSDT9",
        "outputId": "75417776-a26b-4d1e-8186-154916a5d74d"
      },
      "execution_count": 32,
      "outputs": [
        {
          "output_type": "stream",
          "name": "stdout",
          "text": [
            "A palavra secreta tem 2 letras, com a seguinte dica: desenvolver aplicações windows e jogos utilizando o framework .net.\n"
          ]
        }
      ]
    },
    {
      "cell_type": "code",
      "source": [
        "# trazendo a biblioteca capaz de realizar requisições\n",
        "import requests # type: ignore\n",
        "import random\n",
        "\n",
        "# uma variável chamada url que armazena o endereço com as info que desejo buscar\n",
        "url = 'https://raw.githubusercontent.com/guilhermeonrails/api-imersao-ia/main/words.json'\n",
        "# faço a requisição e armazeno em uma variável chamada resposta\n",
        "resposta = requests.get(url)\n",
        "# transforma a resposta em um JSON\n",
        "data = resposta.json()\n",
        "# exibindo as informações com o comando print (lembrem-se do Hello world)\n",
        "print(data)\n",
        "\n",
        "# variável chamada valor secreto que armazena uma tecnologia aleatória da lista\n",
        "valor_secreto = random.choice(data)\n",
        "# variável para armazenar apenas a palavra\n",
        "palavra_secreta = valor_secreto['palavra']\n",
        "# variável para armazenar apenas a dica\n",
        "dica = valor_secreto['dica']\n",
        "# mostrou na tela quantas letras a palavra secreta possui e a dica\n",
        "# o f é capaz de juntar/combinar palavras e variáveis\n",
        "# print(f'A palavra secreta tem {len(palavra_secreta)} letras -> {dica}')\n",
        "# receber o chute ou palpite da tecnologia\n",
        "print(f'A palavra secreta tem {len(palavra_secreta)} letras')\n",
        "print(f'A dica é -> {dica}')\n",
        "chute = input('O que você acha que é ')\n",
        "if chute == palavra_secreta:\n",
        "  print('Acertou, parabêns. Voçê é incrível!')\n",
        "else:\n",
        "  print(f'Errou.. feio hein... a palavra secreta era {palavra_secreta}')"
      ],
      "metadata": {
        "colab": {
          "base_uri": "https://localhost:8080/"
        },
        "id": "x1infmfGRN35",
        "outputId": "241b8043-76e7-4da3-b3ca-0368f4c51e24"
      },
      "execution_count": 46,
      "outputs": [
        {
          "output_type": "stream",
          "name": "stdout",
          "text": [
            "[{'palavra': 'python', 'dica': 'automatizar tarefas e desenvolver aplicações web.'}, {'palavra': 'javascript', 'dica': 'criar interatividade em páginas web e desenvolver aplicações front-end.'}, {'palavra': 'java', 'dica': 'desenvolver aplicações empresariais e para dispositivos móveis.'}, {'palavra': 'html', 'dica': 'estruturar conteúdo em páginas web.'}, {'palavra': 'css', 'dica': 'estilizar elementos em páginas web.'}, {'palavra': 'sql', 'dica': 'gerenciar e consultar bancos de dados relacionais.'}, {'palavra': 'react', 'dica': 'desenvolver interfaces de usuário reativas e escaláveis.'}, {'palavra': 'angular', 'dica': 'construir aplicativos web spa (single page application) complexos.'}, {'palavra': 'node', 'dica': 'criar aplicativos de servidor escaláveis e de alta performance.'}, {'palavra': 'vue', 'dica': 'desenvolver interfaces de usuário interativas e dinâmicas.'}, {'palavra': 'ruby', 'dica': 'desenvolver aplicações web e scripts de automação.'}, {'palavra': 'php', 'dica': 'construir aplicações web dinâmicas e interativas.'}, {'palavra': 'c++', 'dica': 'desenvolver software de sistema, jogos e aplicações de alto desempenho.'}, {'palavra': 'c#', 'dica': 'desenvolver aplicações windows e jogos utilizando o framework .net.'}, {'palavra': 'swift', 'dica': 'desenvolver aplicativos para dispositivos apple, como iphone e ipad.'}, {'palavra': 'kotlin', 'dica': 'desenvolver aplicativos android modernos e seguros.'}, {'palavra': 'tensorflow', 'dica': 'construir e treinar modelos de aprendizado de máquina.'}, {'palavra': 'pytorch', 'dica': 'desenvolver e treinar modelos de aprendizado profundo.'}, {'palavra': 'mongodb', 'dica': 'armazenar e consultar dados de forma flexível e escalável.'}, {'palavra': 'postgresql', 'dica': 'gerenciar dados estruturados e relacionais com segurança.'}, {'palavra': 'docker', 'dica': 'empacotar, distribuir e executar aplicativos em contêineres.'}, {'palavra': 'kubernetes', 'dica': 'orquestrar e gerenciar contêineres em ambientes de produção.'}, {'palavra': 'git', 'dica': 'controlar e colaborar no desenvolvimento de código-fonte.'}, {'palavra': 'jupyter', 'dica': 'criar e compartilhar documentos que contenham código interativo, visualizações e textos explicativos.'}, {'palavra': 'r', 'dica': 'analisar dados e criar visualizações estatísticas.'}, {'palavra': 'scala', 'dica': 'desenvolver aplicativos escaláveis e concorrentes na jvm.'}, {'palavra': 'hadoop', 'dica': 'armazenar e processar grandes volumes de dados em clusters distribuídos.'}, {'palavra': 'spark', 'dica': 'processar e analisar dados de forma rápida e escalável.'}, {'palavra': 'arduino', 'dica': 'desenvolver projetos eletrônicos interativos e automatizados.'}, {'palavra': 'raspberry', 'dica': 'criar dispositivos e projetos de iot (internet das coisas) com baixo custo.'}, {'palavra': 'linux', 'dica': 'utilizar e administrar sistemas operacionais de código aberto.'}, {'palavra': 'windows', 'dica': 'desenvolver aplicativos e sistemas operacionais para computadores pessoais.'}, {'palavra': 'macos', 'dica': 'desenvolver aplicativos para computadores apple e sistemas operacionais.'}, {'palavra': 'android', 'dica': 'desenvolver aplicativos para dispositivos móveis android.'}, {'palavra': 'ios', 'dica': 'desenvolver aplicativos para dispositivos móveis apple (iphone e ipad).'}, {'palavra': 'firebase', 'dica': 'desenvolver aplicativos móveis e web com uma plataforma de backend escalável.'}, {'palavra': 'aws', 'dica': 'implantar e gerenciar aplicativos em uma plataforma de nuvem líder de mercado.'}, {'palavra': 'azure', 'dica': 'desenvolver, implantar e gerenciar aplicativos em uma plataforma de nuvem da microsoft.'}, {'palavra': 'google', 'dica': 'utilizar serviços e produtos da google para desenvolvimento e negócios.'}, {'palavra': 'api', 'dica': 'integrar e comunicar sistemas e serviços de software.'}, {'palavra': 'rest', 'dica': 'criar e consumir apis web de maneira simples e eficiente.'}, {'palavra': 'graphql', 'dica': 'consultar e manipular dados de forma eficiente e flexível.'}, {'palavra': 'oauth', 'dica': 'implementar autenticação e autorização em aplicativos.'}]\n",
            "A palavra secreta tem 3 letras\n",
            "A dica é -> gerenciar e consultar bancos de dados relacionais.\n",
            "O que você acha que é sql\n",
            "Acertou, parabêns. Voçê é incrível\n"
          ]
        }
      ]
    }
  ]
}